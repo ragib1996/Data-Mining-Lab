{
 "cells": [
  {
   "cell_type": "markdown",
   "metadata": {},
   "source": [
    "# Using_Dataset"
   ]
  },
  {
   "cell_type": "code",
   "execution_count": 1,
   "metadata": {},
   "outputs": [],
   "source": [
    "import pandas as pd\n",
    "import re"
   ]
  },
  {
   "cell_type": "code",
   "execution_count": 2,
   "metadata": {},
   "outputs": [],
   "source": [
    "df1 = pd.read_csv('all_cleaned3.txt')\n",
    "df2 = pd.read_csv('test.txt')"
   ]
  },
  {
   "cell_type": "code",
   "execution_count": 3,
   "metadata": {},
   "outputs": [
    {
     "data": {
      "text/plain": [
       "(84258, 1)"
      ]
     },
     "execution_count": 3,
     "metadata": {},
     "output_type": "execute_result"
    }
   ],
   "source": [
    "df1.shape"
   ]
  },
  {
   "cell_type": "code",
   "execution_count": 4,
   "metadata": {},
   "outputs": [
    {
     "data": {
      "text/plain": [
       "(4136, 1)"
      ]
     },
     "execution_count": 4,
     "metadata": {},
     "output_type": "execute_result"
    }
   ],
   "source": [
    "df2.shape"
   ]
  },
  {
   "cell_type": "code",
   "execution_count": 7,
   "metadata": {},
   "outputs": [],
   "source": [
    "train = df1['content'].values.tolist()\n",
    "test = df2['content'].values.tolist()"
   ]
  },
  {
   "cell_type": "code",
   "execution_count": 8,
   "metadata": {},
   "outputs": [],
   "source": [
    "#1\n",
    "p1= r\".*ে$\"\n",
    "p2= r\".*র$\"\n",
    "p3= r\".*য়$\"\n",
    "p36 = r\".*ই$\"\n",
    "p37 = r\".*ও$\"\n",
    "\n",
    "#2\n",
    "p4 = r\".*কে$\"\n",
    "p5 = r\".*রে$\"\n",
    "p6= r\".*রা$\"\n",
    "p7= r\".*গণ$\"\n",
    "p8= r\".*তে$\"\n",
    "p9= r\".*ের$\"\n",
    "p10= r\".*এর$\"\n",
    "p39 = r\".*টি$\"\n",
    "p40 = r\".*েই$\"\n",
    "p41 = r\".*সহ$\"\n",
    "\n",
    "#3\n",
    "p11= r\".*েরা$\"\n",
    "p12= r\".*বন্দ$\"\n",
    "p13= r\".*েরে$\"\n",
    "p14= r\".*দের$\"\n",
    "p15= r\".*দিগ$\"\n",
    "p16= r\".*েতে$\"\n",
    "p34 = r\".*য়ের$\"\n",
    "p42 = r\".*টির$\"\n",
    "\n",
    "#4\n",
    "p17= r\".*গুলি$\"\n",
    "p18= r\".*গুলো$\"\n",
    "p19= r\".*সমূহ$\"\n",
    "p20= r\".*দিয়া$\"\n",
    "p21= r\".*দিয়ে$\"\n",
    "p22= r\".*দিগে$\"\n",
    "p38 = r\".*ভাবে$\"\n",
    "\n",
    "\n",
    "#5\n",
    "p23= r\".*দিগকে$\"\n",
    "p24= r\".*দেরকে$\"\n",
    "p25= r\".*গুলির$\"\n",
    "p26= r\".*গুলোর$\"\n",
    "p27= r\".*দিগের$\"\n",
    "p28= r\".*বৃন্দ$\"\n",
    "p35= r\".*গুলোর$\"\n",
    "\n",
    "\n",
    "#6\n",
    "p29= r\".*দিগেরে$\"\n",
    "p30= r\".*দিগেতে$\"\n",
    "p31= r\".*গুলিতে$\"\n",
    "#p= r\".*$\"\n",
    "\n",
    "#7\n",
    "p32= r\".*বৃন্দের$\"\n",
    "p33= r\".*দিগেরকে$\"\n"
   ]
  },
  {
   "cell_type": "code",
   "execution_count": 9,
   "metadata": {},
   "outputs": [],
   "source": [
    "from bangla_stemmer.stemmer import stemmer\n",
    "stmr = stemmer.BanglaStemmer()\n",
    "\n",
    "\n",
    "ck= []\n",
    "#stemmer = []\n",
    "with open('stemmer_r22.txt', 'w', encoding=\"utf-8\") as fob:\n",
    "    for check in test:\n",
    "        stemmer = \"\"\n",
    "        m=0\n",
    "        temp = 1\n",
    "        if re.match(p1, check) or re.match(p2, check) or re.match(p3, check) or re.match(p36, check) or re.match(p37, check):\n",
    "            ck = check[:-1]\n",
    "            if ck in train:\n",
    "                temp=0\n",
    "                #fob.write('{} --> {}\\n'.format(check, ck))\n",
    "                stemmer = ck\n",
    "                m=1\n",
    "                \n",
    "        if (re.match(p41,check) or re.match(p40,check) or re.match(p39,check) or re.match(p4,check) or re.match(p5,check) or re.match(p6,check) or re.match(p7,check) or re.match(p8,check) or re.match(p9,check) or re.match(p10,check)):\n",
    "            ck = check[:-2]\n",
    "            if ck in train:\n",
    "                temp = 0\n",
    "                #fob.write('{} --> {}\\n'.format(check, ck))\n",
    "                if len(stemmer)> len(ck) or m==0:\n",
    "                    stemmer = ck\n",
    "                    m=1\n",
    "                \n",
    "        if (re.match(p34,check) or re.match(p11,check) or re.match(p12,check) or re.match(p13,check) or re.match(p14,check) or re.match(p15,check) or re.match(p16,check)):\n",
    "            ck = check[:-3]\n",
    "            if ck in train:\n",
    "                temp= 0\n",
    "                #fob.write('{} --> {}\\n'.format(check, ck))\n",
    "                if len(stemmer) > len(ck) or m==0:\n",
    "                    stemmer = ck\n",
    "                    m=1\n",
    "                \n",
    "        if (re.match(p42,check) or re.match(p38,check) or re.match(p17,check) or re.match(p18,check) or re.match(p19,check) or re.match(p20,check) or re.match(p21,check) or re.match(p22,check)):\n",
    "            ck = check[:-4]\n",
    "            if ck in train:\n",
    "                temp= 0\n",
    "                #fob.write('{} --> {}\\n'.format(check, ck))\n",
    "                if len(stemmer) > len(ck) or m==0:\n",
    "                    stemmer = ck\n",
    "                    m=1\n",
    "                \n",
    "        if (re.match(p35,check) or re.match(p23,check) or re.match(p24,check) or re.match(p25,check) or re.match(p26,check) or re.match(p27,check) or re.match(p28,check)):\n",
    "            ck = check[:-5]\n",
    "            if ck in train:\n",
    "                temp= 0\n",
    "                #fob.write('{} --> {}\\n'.format(check, ck))\n",
    "                if len(stemmer) > len(ck) or m==0:\n",
    "                    stemmer = ck\n",
    "                    m=1\n",
    "                \n",
    "        if (re.match(p29,check) or re.match(p30,check) or re.match(p31,check)):\n",
    "            ck = check[:-6]\n",
    "            if ck in train:\n",
    "                temp= 0\n",
    "                #fob.write('{} --> {}\\n'.format(check, ck))\n",
    "                if len(stemmer) > len(ck) or m==0:\n",
    "                    stemmer = ck\n",
    "                    m=1\n",
    "                \n",
    "        if (re.match(p32,check) or re.match(p33,check)):\n",
    "            ck = check[:-7]\n",
    "            if ck in train:\n",
    "                temp= 0\n",
    "                #fob.write('{} --> {}\\n'.format(check, ck))\n",
    "                if len(stemmer) > len(ck) or m==0:\n",
    "                    stemmer = ck\n",
    "                    m=1\n",
    "                    \n",
    "        stm = stmr.stem(check)       \n",
    "        if temp==1:\n",
    "            fob.write('{} --> {} -->{}\\n'.format(check, check,stm))\n",
    "        if temp==0:\n",
    "            fob.write('{} --> {} -->{}\\n'.format(check,stemmer,stm))"
   ]
  }
 ],
 "metadata": {
  "kernelspec": {
   "display_name": "Python 3",
   "language": "python",
   "name": "python3"
  },
  "language_info": {
   "codemirror_mode": {
    "name": "ipython",
    "version": 3
   },
   "file_extension": ".py",
   "mimetype": "text/x-python",
   "name": "python",
   "nbconvert_exporter": "python",
   "pygments_lexer": "ipython3",
   "version": "3.8.3"
  }
 },
 "nbformat": 4,
 "nbformat_minor": 4
}
